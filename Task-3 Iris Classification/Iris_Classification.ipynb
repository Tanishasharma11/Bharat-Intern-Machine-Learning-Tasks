{
  "nbformat": 4,
  "nbformat_minor": 0,
  "metadata": {
    "colab": {
      "provenance": []
    },
    "kernelspec": {
      "name": "python3",
      "display_name": "Python 3"
    },
    "language_info": {
      "name": "python"
    }
  },
  "cells": [
    {
      "cell_type": "markdown",
      "source": [
        "Importing Libraries"
      ],
      "metadata": {
        "id": "Ny8DCjiFiZej"
      }
    },
    {
      "cell_type": "code",
      "source": [
        "import tensorflow as tf\n",
        "from sklearn.model_selection import train_test_split\n",
        "from sklearn.preprocessing import StandardScaler\n",
        "from sklearn.datasets import load_iris"
      ],
      "metadata": {
        "id": "s7FUaFwriVuw"
      },
      "execution_count": 1,
      "outputs": []
    },
    {
      "cell_type": "markdown",
      "source": [
        "Loading the dataset"
      ],
      "metadata": {
        "id": "BQ87qBaxicjZ"
      }
    },
    {
      "cell_type": "code",
      "source": [
        "iris = load_iris()\n",
        "x = iris.data\n",
        "y = iris.target"
      ],
      "metadata": {
        "id": "1WgkagWEifST"
      },
      "execution_count": 2,
      "outputs": []
    },
    {
      "cell_type": "markdown",
      "source": [
        "Preprocessing"
      ],
      "metadata": {
        "id": "xEaNS90JiipI"
      }
    },
    {
      "cell_type": "code",
      "source": [
        "x_train, x_test, y_train, y_test = train_test_split(x, y, test_size=0.5, random_state=42)\n",
        "\n",
        "scaler = StandardScaler()\n",
        "x_train_new = scaler.fit_transform(x_train)\n",
        "x_test_new = scaler.transform(x_test)\n"
      ],
      "metadata": {
        "id": "u0oC6YeB9TnN"
      },
      "execution_count": 3,
      "outputs": []
    },
    {
      "cell_type": "markdown",
      "source": [
        "Model Building"
      ],
      "metadata": {
        "id": "8m2PDOUf9tS0"
      }
    },
    {
      "cell_type": "code",
      "source": [
        "model = tf.keras.Sequential([\n",
        "    tf.keras.layers.Dense(64, activation='relu', input_shape=(4,)),\n",
        "    tf.keras.layers.Dense(3, activation='softmax')])\n",
        "\n",
        "model.compile(optimizer='adam', loss='sparse_categorical_crossentropy', metrics=['accuracy'])\n"
      ],
      "metadata": {
        "id": "0x9kG8Vg93h4"
      },
      "execution_count": 4,
      "outputs": []
    },
    {
      "cell_type": "markdown",
      "source": [
        "Training and Testing the model"
      ],
      "metadata": {
        "id": "jgGiwNf3-DGj"
      }
    },
    {
      "cell_type": "code",
      "source": [
        "model.fit(x_train_new, y_train, epochs=50, batch_size=32, validation_data=(x_test_new, y_test))\n",
        "loss, accuracy = model.evaluate(x_test_new, y_test)\n"
      ],
      "metadata": {
        "colab": {
          "base_uri": "https://localhost:8080/"
        },
        "id": "uF5s3a8u-F9h",
        "outputId": "c804a222-295a-40e1-f7e2-03409bdf19a3"
      },
      "execution_count": 5,
      "outputs": [
        {
          "output_type": "stream",
          "name": "stdout",
          "text": [
            "Epoch 1/50\n",
            "3/3 [==============================] - 1s 121ms/step - loss: 1.0005 - accuracy: 0.4267 - val_loss: 0.9026 - val_accuracy: 0.5733\n",
            "Epoch 2/50\n",
            "3/3 [==============================] - 0s 17ms/step - loss: 0.9545 - accuracy: 0.4667 - val_loss: 0.8583 - val_accuracy: 0.6000\n",
            "Epoch 3/50\n",
            "3/3 [==============================] - 0s 17ms/step - loss: 0.9105 - accuracy: 0.5200 - val_loss: 0.8175 - val_accuracy: 0.6400\n",
            "Epoch 4/50\n",
            "3/3 [==============================] - 0s 17ms/step - loss: 0.8728 - accuracy: 0.5733 - val_loss: 0.7790 - val_accuracy: 0.7067\n",
            "Epoch 5/50\n",
            "3/3 [==============================] - 0s 24ms/step - loss: 0.8365 - accuracy: 0.6533 - val_loss: 0.7431 - val_accuracy: 0.7200\n",
            "Epoch 6/50\n",
            "3/3 [==============================] - 0s 26ms/step - loss: 0.8010 - accuracy: 0.7467 - val_loss: 0.7101 - val_accuracy: 0.7467\n",
            "Epoch 7/50\n",
            "3/3 [==============================] - 0s 19ms/step - loss: 0.7701 - accuracy: 0.7467 - val_loss: 0.6790 - val_accuracy: 0.7867\n",
            "Epoch 8/50\n",
            "3/3 [==============================] - 0s 25ms/step - loss: 0.7398 - accuracy: 0.7600 - val_loss: 0.6505 - val_accuracy: 0.8133\n",
            "Epoch 9/50\n",
            "3/3 [==============================] - 0s 19ms/step - loss: 0.7133 - accuracy: 0.7867 - val_loss: 0.6244 - val_accuracy: 0.8267\n",
            "Epoch 10/50\n",
            "3/3 [==============================] - 0s 25ms/step - loss: 0.6867 - accuracy: 0.7733 - val_loss: 0.6008 - val_accuracy: 0.8267\n",
            "Epoch 11/50\n",
            "3/3 [==============================] - 0s 25ms/step - loss: 0.6630 - accuracy: 0.7733 - val_loss: 0.5790 - val_accuracy: 0.8267\n",
            "Epoch 12/50\n",
            "3/3 [==============================] - 0s 19ms/step - loss: 0.6414 - accuracy: 0.7867 - val_loss: 0.5587 - val_accuracy: 0.8533\n",
            "Epoch 13/50\n",
            "3/3 [==============================] - 0s 17ms/step - loss: 0.6220 - accuracy: 0.7867 - val_loss: 0.5400 - val_accuracy: 0.8667\n",
            "Epoch 14/50\n",
            "3/3 [==============================] - 0s 17ms/step - loss: 0.6016 - accuracy: 0.8000 - val_loss: 0.5228 - val_accuracy: 0.8667\n",
            "Epoch 15/50\n",
            "3/3 [==============================] - 0s 24ms/step - loss: 0.5841 - accuracy: 0.8000 - val_loss: 0.5069 - val_accuracy: 0.8800\n",
            "Epoch 16/50\n",
            "3/3 [==============================] - 0s 25ms/step - loss: 0.5677 - accuracy: 0.8000 - val_loss: 0.4920 - val_accuracy: 0.8800\n",
            "Epoch 17/50\n",
            "3/3 [==============================] - 0s 25ms/step - loss: 0.5525 - accuracy: 0.8133 - val_loss: 0.4781 - val_accuracy: 0.8800\n",
            "Epoch 18/50\n",
            "3/3 [==============================] - 0s 18ms/step - loss: 0.5377 - accuracy: 0.8267 - val_loss: 0.4651 - val_accuracy: 0.8800\n",
            "Epoch 19/50\n",
            "3/3 [==============================] - 0s 26ms/step - loss: 0.5245 - accuracy: 0.8267 - val_loss: 0.4530 - val_accuracy: 0.8800\n",
            "Epoch 20/50\n",
            "3/3 [==============================] - 0s 24ms/step - loss: 0.5115 - accuracy: 0.8267 - val_loss: 0.4418 - val_accuracy: 0.8800\n",
            "Epoch 21/50\n",
            "3/3 [==============================] - 0s 25ms/step - loss: 0.4997 - accuracy: 0.8267 - val_loss: 0.4312 - val_accuracy: 0.8800\n",
            "Epoch 22/50\n",
            "3/3 [==============================] - 0s 25ms/step - loss: 0.4885 - accuracy: 0.8267 - val_loss: 0.4212 - val_accuracy: 0.8800\n",
            "Epoch 23/50\n",
            "3/3 [==============================] - 0s 24ms/step - loss: 0.4780 - accuracy: 0.8267 - val_loss: 0.4118 - val_accuracy: 0.8800\n",
            "Epoch 24/50\n",
            "3/3 [==============================] - 0s 17ms/step - loss: 0.4677 - accuracy: 0.8267 - val_loss: 0.4030 - val_accuracy: 0.8800\n",
            "Epoch 25/50\n",
            "3/3 [==============================] - 0s 25ms/step - loss: 0.4585 - accuracy: 0.8267 - val_loss: 0.3947 - val_accuracy: 0.8800\n",
            "Epoch 26/50\n",
            "3/3 [==============================] - 0s 25ms/step - loss: 0.4501 - accuracy: 0.8267 - val_loss: 0.3867 - val_accuracy: 0.8800\n",
            "Epoch 27/50\n",
            "3/3 [==============================] - 0s 26ms/step - loss: 0.4410 - accuracy: 0.8267 - val_loss: 0.3793 - val_accuracy: 0.8800\n",
            "Epoch 28/50\n",
            "3/3 [==============================] - 0s 18ms/step - loss: 0.4334 - accuracy: 0.8267 - val_loss: 0.3721 - val_accuracy: 0.8800\n",
            "Epoch 29/50\n",
            "3/3 [==============================] - 0s 17ms/step - loss: 0.4255 - accuracy: 0.8267 - val_loss: 0.3654 - val_accuracy: 0.8800\n",
            "Epoch 30/50\n",
            "3/3 [==============================] - 0s 24ms/step - loss: 0.4181 - accuracy: 0.8267 - val_loss: 0.3589 - val_accuracy: 0.8800\n",
            "Epoch 31/50\n",
            "3/3 [==============================] - 0s 26ms/step - loss: 0.4110 - accuracy: 0.8267 - val_loss: 0.3527 - val_accuracy: 0.8800\n",
            "Epoch 32/50\n",
            "3/3 [==============================] - 0s 35ms/step - loss: 0.4044 - accuracy: 0.8267 - val_loss: 0.3468 - val_accuracy: 0.8800\n",
            "Epoch 33/50\n",
            "3/3 [==============================] - 0s 33ms/step - loss: 0.3978 - accuracy: 0.8267 - val_loss: 0.3412 - val_accuracy: 0.8800\n",
            "Epoch 34/50\n",
            "3/3 [==============================] - 0s 31ms/step - loss: 0.3915 - accuracy: 0.8267 - val_loss: 0.3357 - val_accuracy: 0.8800\n",
            "Epoch 35/50\n",
            "3/3 [==============================] - 0s 27ms/step - loss: 0.3851 - accuracy: 0.8267 - val_loss: 0.3306 - val_accuracy: 0.8800\n",
            "Epoch 36/50\n",
            "3/3 [==============================] - 0s 32ms/step - loss: 0.3793 - accuracy: 0.8400 - val_loss: 0.3255 - val_accuracy: 0.8800\n",
            "Epoch 37/50\n",
            "3/3 [==============================] - 0s 33ms/step - loss: 0.3740 - accuracy: 0.8533 - val_loss: 0.3205 - val_accuracy: 0.8800\n",
            "Epoch 38/50\n",
            "3/3 [==============================] - 0s 37ms/step - loss: 0.3683 - accuracy: 0.8667 - val_loss: 0.3158 - val_accuracy: 0.8800\n",
            "Epoch 39/50\n",
            "3/3 [==============================] - 0s 25ms/step - loss: 0.3631 - accuracy: 0.8667 - val_loss: 0.3113 - val_accuracy: 0.8800\n",
            "Epoch 40/50\n",
            "3/3 [==============================] - 0s 29ms/step - loss: 0.3585 - accuracy: 0.8667 - val_loss: 0.3071 - val_accuracy: 0.9067\n",
            "Epoch 41/50\n",
            "3/3 [==============================] - 0s 29ms/step - loss: 0.3535 - accuracy: 0.8667 - val_loss: 0.3029 - val_accuracy: 0.9067\n",
            "Epoch 42/50\n",
            "3/3 [==============================] - 0s 30ms/step - loss: 0.3490 - accuracy: 0.8800 - val_loss: 0.2989 - val_accuracy: 0.9067\n",
            "Epoch 43/50\n",
            "3/3 [==============================] - 0s 32ms/step - loss: 0.3447 - accuracy: 0.8800 - val_loss: 0.2947 - val_accuracy: 0.9200\n",
            "Epoch 44/50\n",
            "3/3 [==============================] - 0s 24ms/step - loss: 0.3402 - accuracy: 0.8800 - val_loss: 0.2904 - val_accuracy: 0.9200\n",
            "Epoch 45/50\n",
            "3/3 [==============================] - 0s 33ms/step - loss: 0.3360 - accuracy: 0.8800 - val_loss: 0.2861 - val_accuracy: 0.9200\n",
            "Epoch 46/50\n",
            "3/3 [==============================] - 0s 32ms/step - loss: 0.3317 - accuracy: 0.8800 - val_loss: 0.2819 - val_accuracy: 0.9200\n",
            "Epoch 47/50\n",
            "3/3 [==============================] - 0s 31ms/step - loss: 0.3275 - accuracy: 0.8800 - val_loss: 0.2780 - val_accuracy: 0.9200\n",
            "Epoch 48/50\n",
            "3/3 [==============================] - 0s 30ms/step - loss: 0.3240 - accuracy: 0.8800 - val_loss: 0.2742 - val_accuracy: 0.9200\n",
            "Epoch 49/50\n",
            "3/3 [==============================] - 0s 31ms/step - loss: 0.3201 - accuracy: 0.8800 - val_loss: 0.2707 - val_accuracy: 0.9200\n",
            "Epoch 50/50\n",
            "3/3 [==============================] - 0s 29ms/step - loss: 0.3163 - accuracy: 0.8800 - val_loss: 0.2673 - val_accuracy: 0.9200\n",
            "3/3 [==============================] - 0s 4ms/step - loss: 0.2673 - accuracy: 0.9200\n"
          ]
        }
      ]
    },
    {
      "cell_type": "code",
      "source": [
        "print(f'Accuracy score: {100*accuracy:.2f}')"
      ],
      "metadata": {
        "colab": {
          "base_uri": "https://localhost:8080/"
        },
        "id": "q6Ia_naQQcIE",
        "outputId": "4faa7d90-90e4-4d23-db62-83d6a5b99b60"
      },
      "execution_count": 6,
      "outputs": [
        {
          "output_type": "stream",
          "name": "stdout",
          "text": [
            "Accuracy score: 92.00\n"
          ]
        }
      ]
    }
  ]
}